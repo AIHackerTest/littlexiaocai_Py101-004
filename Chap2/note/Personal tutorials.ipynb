{
 "cells": [
  {
   "cell_type": "markdown",
   "metadata": {},
   "source": [
    "对比了心知天气和APIXU的API，心知天气的API并没有完全封装，还需要做进一步的处理才能用，APIXU的API拿来不需要多余的操作，就可以使用。通过这个比较进一步了解了以下的知识点：\n",
    "1. 封装的好处；\n",
    "2. super函数的使用；\n",
    "3. raise异常处理用法；\n",
    "4. unittest的使用。\n",
    "\n",
    "### super函数\n",
    "当子类继承了父类后，如果父类有做修改，可能会造成代码大面积的修改，使用super避免了在代码里直接引用父类，减少代码的修改量。\n",
    "参考：http://www.cnblogs.com/lovemo1314/archive/2011/05/03/2035005.html\n",
    "\n",
    "### raise函数\n",
    "一个更随意的发起异常的函数。\n",
    "参考：http://www.runoob.com/python/python-exceptions.html\n",
    "\n",
    "### unittest\n",
    "\n",
    "参考：http://blog.jobbole.com/55180/"
   ]
  }
 ],
 "metadata": {
  "kernelspec": {
   "display_name": "Python 3",
   "language": "python",
   "name": "python3"
  },
  "language_info": {
   "codemirror_mode": {
    "name": "ipython",
    "version": 3
   },
   "file_extension": ".py",
   "mimetype": "text/x-python",
   "name": "python",
   "nbconvert_exporter": "python",
   "pygments_lexer": "ipython3",
   "version": "3.6.1"
  }
 },
 "nbformat": 4,
 "nbformat_minor": 2
}
