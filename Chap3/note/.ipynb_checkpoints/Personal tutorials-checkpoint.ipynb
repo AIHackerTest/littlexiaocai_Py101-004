{
 "cells": [
  {
   "cell_type": "markdown",
   "metadata": {},
   "source": [
    "## 3wd3\n",
    "\n",
    "记录从3wd0到3wd3的学习过程。\n",
    "\n",
    "### 第一个例子\n",
    "通过http://flask.pocoo.org/docs/0.12/quickstart/ 里的hello world例子，了解了通过Flask建立网页的最基础方式，运行Py，会生成一个地址，结合app.route()里的内容，构成一个完整的地址，在浏览器里输入此地址，就可以执行app.route后面定义函数的内容。\n",
    "\n",
    "### 如何让网页显示更丰富\n",
    "\n",
    "引用模板如下所示。"
   ]
  },
  {
   "cell_type": "code",
   "execution_count": null,
   "metadata": {
    "collapsed": true
   },
   "outputs": [],
   "source": [
    "from flask import render_template\n",
    "\n",
    "@app.route('/hello/')\n",
    "@app.route('/hello/<name>')\n",
    "def hello(name=None):\n",
    "    return render_template('hello.html', name=name)"
   ]
  },
  {
   "cell_type": "markdown",
   "metadata": {},
   "source": [
    "### 快速过一遍HTML\n",
    "\n",
    "参看http://www.w3school.com.cn/html/index.asp ，快速浏览了基础，元素，属性，CSS。本期的题目里，重点有一个输入框要输入城市名，而且会有反馈，所以重点看了下表单。\n",
    "\n",
    "但是如何生成表单，表单如何操作仍然没有具体概念，需要寻找一个制作表单的例子让自己形成概念。"
   ]
  },
  {
   "cell_type": "markdown",
   "metadata": {},
   "source": [
    "### 如何用Flask建立一个表单\n",
    "\n",
    "在google上搜索如何建立表单，在前几位看到了一个网址 https://blog.miguelgrinberg.com/post/the-flask-mega-tutorial-part-iii-web-forms ，从里面意外收获了Flask_WTF插件。\n",
    "\n",
    "同时有搜索到了WTF的官网文档http://flask.pocoo.org/docs/0.12/patterns/wtforms/ 通过学习这两个网址里的内容，让我对建立一个表单有了基础的概念。\n",
    "\n",
    "wtf插件提供了便捷的建立表单的方式，虽然我现在还不知道传统的Flask如何建立表单... 但是下面的代码很简洁，分别建立了Username和Email Address两个字符串输入框，以及两个密码输入框，而且输入框后面自带校验函数。"
   ]
  },
  {
   "cell_type": "code",
   "execution_count": null,
   "metadata": {
    "collapsed": true
   },
   "outputs": [],
   "source": [
    "from wtforms import Form, BooleanField, StringField, PasswordField, validators\n",
    "\n",
    "class RegistrationForm(Form):\n",
    "    username = StringField('Username', [validators.Length(min=4, max=25)])\n",
    "    email = StringField('Email Address', [validators.Length(min=6, max=35)])\n",
    "    password = PasswordField('New Password', [\n",
    "        validators.DataRequired(),\n",
    "        validators.EqualTo('confirm', message='Passwords must match')\n",
    "    ])\n",
    "    confirm = PasswordField('Repeat Password')\n",
    "    accept_tos = BooleanField('I accept the TOS', [validators.DataRequired()])"
   ]
  },
  {
   "cell_type": "markdown",
   "metadata": {},
   "source": [
    "### 如何将表单的数据传给主程序\n",
    "\n",
    "题目中需要在输入框中输入城市，然后调用主程序查询天气，表单里的城市输入如何传给主程序呢？\n",
    "\n",
    "同样参考了http://flask.pocoo.org/docs/0.12/patterns/wtforms/ 里的下面这段代码。"
   ]
  },
  {
   "cell_type": "code",
   "execution_count": null,
   "metadata": {
    "collapsed": true
   },
   "outputs": [],
   "source": [
    "@app.route('/register', methods=['GET', 'POST'])\n",
    "def register():\n",
    "    form = RegistrationForm(request.form)\n",
    "    if request.method == 'POST' and form.validate():\n",
    "        user = User(form.username.data, form.email.data,\n",
    "                    form.password.data)\n",
    "        db_session.add(user)\n",
    "        flash('Thanks for registering')\n",
    "        return redirect(url_for('login'))\n",
    "    return render_template('register.html', form=form)"
   ]
  },
  {
   "cell_type": "markdown",
   "metadata": {},
   "source": [
    "发现只要使用 form.username.data 这种方式就可以读取到表单里的数据了。"
   ]
  },
  {
   "cell_type": "markdown",
   "metadata": {},
   "source": [
    "### 如何将程序的数据传给表单\n",
    "\n",
    "查询好的天气结果要返回给表单显示，如何实现？\n",
    "\n",
    "参看https://blog.miguelgrinberg.com/post/the-flask-mega-tutorial-part-iii-web-forms 里的代码"
   ]
  },
  {
   "cell_type": "code",
   "execution_count": null,
   "metadata": {
    "collapsed": true
   },
   "outputs": [],
   "source": [
    "@app.route('/login', methods=['GET', 'POST'])\n",
    "def login():\n",
    "    form = LoginForm()\n",
    "    if form.validate_on_submit():\n",
    "        flash('Login requested for OpenID=\"%s\", remember_me=%s' %\n",
    "              (form.openid.data, str(form.remember_me.data)))\n",
    "        return redirect('/index')\n",
    "    return render_template('login.html', \n",
    "                           title='Sign In',\n",
    "                           form=form,\n",
    "                           providers=app.config['OPENID_PROVIDERS'])"
   ]
  },
  {
   "cell_type": "markdown",
   "metadata": {},
   "source": [
    "通过在render_template里填加参数来实现程序到HTML的数据传递，而且参数可以是任意类型，title是一个字符串，Providers是一个字典。\n",
    "\n",
    "到此，本次作业的几个核心知识点就已经攻破了。"
   ]
  },
  {
   "cell_type": "markdown",
   "metadata": {},
   "source": [
    "### 历史记录需要使用全局变量\n",
    "待补充\n",
    "### 不要被输入框的校验函数坑了\n",
    "待补充"
   ]
  }
 ],
 "metadata": {
  "kernelspec": {
   "display_name": "Python 3",
   "language": "python",
   "name": "python3"
  },
  "language_info": {
   "codemirror_mode": {
    "name": "ipython",
    "version": 3
   },
   "file_extension": ".py",
   "mimetype": "text/x-python",
   "name": "python",
   "nbconvert_exporter": "python",
   "pygments_lexer": "ipython3",
   "version": "3.6.1"
  }
 },
 "nbformat": 4,
 "nbformat_minor": 2
}
